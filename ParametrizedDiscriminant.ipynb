{
 "cells": [
  {
   "cell_type": "markdown",
   "metadata": {},
   "source": [
    "This is a minimal viable version of the code."
   ]
  },
  {
   "cell_type": "code",
   "execution_count": null,
   "metadata": {
    "scrolled": true
   },
   "outputs": [],
   "source": [
    "from Tools import *\n",
    "\n",
    "# set paths to folders to read data and save files\n",
    "DataParentFolder = os.getcwd() + '/../h5/Ideal_Reweighted_Latent_Data_Coefficients/'\n",
    "GeneralParentFolder = os.getcwd() + '/../'\n",
    "\n",
    "#################### trainer ####################\n",
    "NumEpochs = int(1e1)\n",
    "Loss = 'Quadratic'\n",
    "OT = OurTrainer(NumEpochs = NumEpochs, LossFunction = Loss, LearningRate = 1e-3)\n",
    "OT.SetSaveAfterEpochs(list(range(1000, 10000, 1000)))\n",
    "OT.SetPrintAfterEpochs(list(range(1000, 10000, 1000)))  \n",
    "    \n",
    "#################### data ####################\n",
    "\n",
    "# load training data\n",
    "DataFilePath   = DataParentFolder + \"/trainingSampleReweightedLarge_Latent.h5\"\n",
    "WeightFilePath = DataParentFolder + \"/trainingSampleReweightedLarge_Latent_Benchmark.h5\"\n",
    "TrainingData = CombinedDataFile(DataFilePath, WeightFilePath, verbose=True, NReadData=int(1e6))\n",
    "\n",
    "# load validation data\n",
    "VDataFilePath    = DataParentFolder + \"/testingSampleReweighted_Latent.h5\"\n",
    "VWeightFilePath  = DataParentFolder + \"/testingSampleReweighted_Latent_Benchmark.h5\"\n",
    "ValidationData = CombinedDataFile(VDataFilePath, VWeightFilePath, verbose=True, NReadData=int(1e6))\n",
    "\n",
    "#################### training ####################\n",
    "\n",
    "# set random seed for reproduction\n",
    "RandomSeed = torch.randint(100, 999, (1, )).item()\n",
    "torch.manual_seed(RandomSeed)\n",
    "\n",
    "# meta parameters\n",
    "NOutput = 2\n",
    "Architecture = [10, 32, 32, 32, 32, 1]\n",
    "ActivationFn = 'ReLU'\n",
    "WeightClipping = True\n",
    "WeightClippingValue = 0.05\n",
    "\n",
    "# model initialisation\n",
    "MD = OurModel(NOutput, Architecture, ActivationFn)\n",
    "MD.InitPreprocess(TrainingData)\n",
    "\n",
    "# training\n",
    "BatchSize = int(25e4)\n",
    "MD = OT.Train(MD, TrainingData, bs = BatchSize, ValidationDataFile = ValidationData, \n",
    "              WeightClipping=WeightClipping, L1Max=WeightClippingValue, \n",
    "              Name = 'ParametrizedDiscriminant, (loss %s, Seed %d), '%(Loss, RandomSeed),\n",
    "              Folder = GeneralParentFolder + '/TrainedModels/IdealReweightedLatentModels/')"
   ]
  },
  {
   "cell_type": "markdown",
   "metadata": {},
   "source": [
    "#### Smart Choice of Wilson Coefficients and Reweighting"
   ]
  },
  {
   "cell_type": "code",
   "execution_count": null,
   "metadata": {},
   "outputs": [],
   "source": [
    "#################### generate new data file ####################\n",
    "\n",
    "# file names\n",
    "NewFileName    = DataParentFolder + \"/trainingSampleReweightedLarge_Latent_smart_%s.h5\"%(RandomSeed)\n",
    "CoeffFileName  = DataParentFolder + \"/trainingSampleReweightedLarge_Latent.h5\"\n",
    "DataFileName   = DataParentFolder + \"/trainingSampleReweightedLarge_Latent.h5\"\n",
    "\n",
    "FeatureColumns = list(range(10))\n",
    "DataSetList    = [] # the new file will store nothing but the reweights computed according to smart Wilson coefficients\n",
    "MD.cpu()\n",
    "\n",
    "with h5py.File(DataFileName, 'r') as td:\n",
    "    DataTraining = (torch.Tensor(td['Data'][()]))\n",
    "    DataTraining = DataTraining[:int(1e6)]\n",
    "\n",
    "if not os.path.isfile(NewFileName):\n",
    "    SmartWCgw, Factor = ComputeSmartWCgw(DataTraining, MD, FeatureColumns)\n",
    "    CreateDataSet(CoeffFileName, SmartWCgw, Factor, DataFileName, NewFileName, DataSetList)\n",
    "    \n",
    "\n",
    "#################### smart training ####################\n",
    "\n",
    "# load new training data\n",
    "DataFilePath   = DataParentFolder + \"/trainingSampleReweightedLarge_Latent.h5\"\n",
    "WeightFilePath = NewFileName\n",
    "TrainingData = CombinedDataFile(DataFilePath, WeightFilePath, verbose=True, NReadData=int(1e6))\n",
    "\n",
    "#################### training ####################\n",
    "\n",
    "# set random seed for reproduction\n",
    "PrevRandomSeed = RandomSeed\n",
    "RandomSeed = torch.randint(100, 999, (1, )).item()\n",
    "torch.manual_seed(RandomSeed)\n",
    "\n",
    "# model initialisation\n",
    "MDSmart = OurModel(NOutput, Architecture, ActivationFn)\n",
    "MDSmart.InitPreprocess(TrainingData)\n",
    "\n",
    "# training\n",
    "BatchSize = int(25e4)\n",
    "MDSmart = OT.Train(MDSmart, TrainingData, bs = BatchSize, ValidationDataFile = ValidationData, \n",
    "              WeightClipping=WeightClipping, L1Max=WeightClippingValue, \n",
    "              Name = 'ParametrizedDiscriminant_Smart, (loss %s, Seed %d), '%(Loss, RandomSeed),\n",
    "              Folder = GeneralParentFolder + '/TrainedModels/IdealReweightedLatentModels/')"
   ]
  },
  {
   "cell_type": "code",
   "execution_count": null,
   "metadata": {},
   "outputs": [],
   "source": []
  }
 ],
 "metadata": {
  "kernelspec": {
   "display_name": "Python 3",
   "language": "python",
   "name": "python3"
  },
  "language_info": {
   "codemirror_mode": {
    "name": "ipython",
    "version": 3
   },
   "file_extension": ".py",
   "mimetype": "text/x-python",
   "name": "python",
   "nbconvert_exporter": "python",
   "pygments_lexer": "ipython3",
   "version": "3.6.8"
  }
 },
 "nbformat": 4,
 "nbformat_minor": 2
}
